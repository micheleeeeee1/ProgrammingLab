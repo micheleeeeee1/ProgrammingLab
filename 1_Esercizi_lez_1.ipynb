{
 "cells": [
  {
   "cell_type": "markdown",
   "metadata": {},
   "source": [
    "### **1. Trasformare cicli in list comprehension**\n",
    "\n",
    "Fai tre esempi di cicli producono una lista e poi riscrivi lo stesso codice usando la list comprehension"
   ]
  },
  {
   "cell_type": "code",
   "execution_count": null,
   "metadata": {},
   "outputs": [],
   "source": [
    "lista=[]\n",
    "for i in range(10):\n",
    "    lista.append(i)\n",
    "lista=[i for i in range(10)]\n",
    "\n",
    "lista1=[]\n",
    "for i in range(20):\n",
    "    if(i%2==0):\n",
    "        lista1.append(i)\n",
    "lista1=[i for i in range(20) if i%2==0]\n",
    "\n",
    "lista2=[]\n",
    "for i in range(5):\n",
    "    lista2.append(i*i*i)\n",
    "\n",
    "lista2=[i*i*i for i in range(5)]\n",
    "\n"
   ]
  },
  {
   "cell_type": "markdown",
   "metadata": {},
   "source": [
    "### **2. Vettore di Numeri Primi**\n",
    "\n",
    "1. **Crea un vettore** contenente tutti i numeri primi compresi tra **0 e 10**  \n",
    "   _(Puoi scriverli direttamente nell'array)._\n",
    "\n",
    "2. **Conta quanti numeri ci sono nel vettore** utilizzando la funzione `len()`.  **Ottieni lo stesso numero** accedendo all'attributo `.size` del vettore.\n",
    "\n",
    "3. Quale pensi sia il tipo di dato (`dtype`) del vettore?  Prova a rispondere senza eseguire il codice e Verifica la tua risposta accedendo all'attributo `.dtype` del vettore\n",
    "\n",
    "4. Scrivi l'array usando una list comprehension che controlla che i numeri siano primi. "
   ]
  },
  {
   "cell_type": "code",
   "execution_count": null,
   "metadata": {},
   "outputs": [
    {
     "name": "stdout",
     "output_type": "stream",
     "text": [
      "5\n",
      "5\n",
      "int32\n",
      "[2, 3, 5, 7]\n"
     ]
    }
   ],
   "source": [
    "import numpy as np\n",
    "vettore=np.array([1,2,3,5,7])\n",
    "print(len(vettore))\n",
    "print(vettore.size)\n",
    "#il tipo di dato sarà int, visto che gli elementi sono tutti interi\n",
    "print(vettore.dtype)\n",
    "def isprime(num):\n",
    "    var=0\n",
    "    for i in range(num):\n",
    "        if (i>=1):\n",
    "            if num%i==0:\n",
    "                var=var+1\n",
    "    if(var==1):\n",
    "        return 0\n",
    "    else:\n",
    "        return 1\n",
    "\n",
    "    \n",
    "vettore2=[x for x in range(11) if isprime(x)==0]\n",
    "print(vettore2)\n",
    "\n",
    "\n",
    "\n",
    "\n"
   ]
  },
  {
   "cell_type": "markdown",
   "metadata": {},
   "source": [
    "### **3.  Operazioni su array**\n",
    "Crea un array **a**, 1D (senza digitarlo esplicitamente), e genera due nuovi array **b**, contenente una sottostringa a piacere e **c** che è il reverse dell'array **a** (esempio [1,2,3] diventa [3,2,1]) .  Dividi l'array **a** per l'array **c**. Fai la stessa cosa per una lista."
   ]
  },
  {
   "cell_type": "code",
   "execution_count": 51,
   "metadata": {},
   "outputs": [
    {
     "name": "stdout",
     "output_type": "stream",
     "text": [
      "[1 2 3 4 5]\n",
      "[2 3]\n",
      "[5 4 3 2 1]\n",
      "[0.2 0.5 1.  2.  5. ]\n",
      "[1, 2, 3, 4, 5]\n",
      "[[2, 3]]\n",
      "[5, 4, 3, 2, 1]\n",
      "[0.2, 0.5, 1.0, 2.0, 5.0]\n"
     ]
    }
   ],
   "source": [
    "import numpy as np\n",
    "a=np.array([1,2,3,4,5])\n",
    "b=np.array(a[1:3])\n",
    "c=np.array(a[::-1])\n",
    "print(a)\n",
    "print(b)\n",
    "print(c)\n",
    "print(a/c)\n",
    "\n",
    "lista=[1,2,3,4,5]\n",
    "lista1=[lista[1:3]]\n",
    "lista2=lista.copy()\n",
    "lista2.reverse()\n",
    "print(lista)\n",
    "print(lista1)\n",
    "print(lista2)\n",
    "#print(lista/lista2) non funziona in quanto bisogna accedere elemento per elemento nella lista\n",
    "divisione=[]\n",
    "for elem in range(len(lista)):\n",
    "    divisione.append(lista[elem]/lista2[elem])\n",
    "print(divisione)\n",
    " \n",
    "\n",
    "    \n",
    "   \n",
    "\n",
    "\n"
   ]
  }
 ],
 "metadata": {
  "kernelspec": {
   "display_name": "Python 3",
   "language": "python",
   "name": "python3"
  },
  "language_info": {
   "codemirror_mode": {
    "name": "ipython",
    "version": 3
   },
   "file_extension": ".py",
   "mimetype": "text/x-python",
   "name": "python",
   "nbconvert_exporter": "python",
   "pygments_lexer": "ipython3",
   "version": "3.10.8"
  }
 },
 "nbformat": 4,
 "nbformat_minor": 2
}
